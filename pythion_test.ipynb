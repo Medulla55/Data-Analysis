{
  "nbformat": 4,
  "nbformat_minor": 0,
  "metadata": {
    "colab": {
      "provenance": [],
      "authorship_tag": "ABX9TyOzR/3V/abHgMN+HyHTGv5/",
      "include_colab_link": true
    },
    "kernelspec": {
      "name": "python3",
      "display_name": "Python 3"
    },
    "language_info": {
      "name": "python"
    }
  },
  "cells": [
    {
      "cell_type": "markdown",
      "metadata": {
        "id": "view-in-github",
        "colab_type": "text"
      },
      "source": [
        "<a href=\"https://colab.research.google.com/github/Medulla55/Data-Analysis/blob/main/pythion_test.ipynb\" target=\"_parent\"><img src=\"https://colab.research.google.com/assets/colab-badge.svg\" alt=\"Open In Colab\"/></a>"
      ]
    },
    {
      "cell_type": "code",
      "execution_count": null,
      "metadata": {
        "colab": {
          "base_uri": "https://localhost:8080/"
        },
        "id": "iosnViRXzs9y",
        "outputId": "7698a0be-caf5-4505-9b54-153850ef7a16"
      },
      "outputs": [
        {
          "output_type": "stream",
          "name": "stdout",
          "text": [
            "Q1: What is the capital of France?\n",
            "Options: A. Berlin B. Madrid C. Paris D. Rome\n",
            "Answer: C\n",
            "\n",
            "Q2: Which planet is known as the Red Planet?\n",
            "Options: A. Earth B. Mars C. Jupiter D. Venus\n",
            "Answer: B\n",
            "\n",
            "Q3: What is the largest ocean on Earth?\n",
            "Options: A. Atlantic Ocean B. Indian Ocean C. Arctic Ocean D. Pacific Ocean\n",
            "Answer: D\n",
            "\n",
            "Q4: Which element has the chemical symbol 'O'?\n",
            "Options: A. Gold B. Oxygen C. Osmium D. Ozone\n",
            "Answer: B\n",
            "\n",
            "Q5: Who wrote 'Romeo and Juliet'?\n",
            "Options: A. Charles Dickens B. William Shakespeare C. Jane Austen D. Mark Twain\n",
            "Answer: B\n",
            "\n"
          ]
        }
      ],
      "source": [
        " # Create a list of multiple-choice questions as dictionaries\n",
        "questions = [\n",
        "    {\n",
        "        \"question\": \"What is the capital of France?\",\n",
        "        \"options\": \"A. Berlin B. Madrid C. Paris D. Rome\",\n",
        "        \"answer\": \"C\"\n",
        "    },\n",
        "    {\n",
        "        \"question\": \"Which planet is known as the Red Planet?\",\n",
        "        \"options\": \"A. Earth B. Mars C. Jupiter D. Venus\",\n",
        "        \"answer\": \"B\"\n",
        "    },\n",
        "    {\n",
        "        \"question\": \"What is the largest ocean on Earth?\",\n",
        "        \"options\": \"A. Atlantic Ocean B. Indian Ocean C. Arctic Ocean D. Pacific Ocean\",\n",
        "        \"answer\": \"D\"\n",
        "    },\n",
        "    {\n",
        "        \"question\": \"Which element has the chemical symbol 'O'?\",\n",
        "        \"options\": \"A. Gold B. Oxygen C. Osmium D. Ozone\",\n",
        "        \"answer\": \"B\"\n",
        "    },\n",
        "    {\n",
        "        \"question\": \"Who wrote 'Romeo and Juliet'?\",\n",
        "        \"options\": \"A. Charles Dickens B. William Shakespeare C. Jane Austen D. Mark Twain\",\n",
        "        \"answer\": \"B\"\n",
        "    }\n",
        "]\n",
        "\n",
        "# Display the questions\n",
        "for i, q in enumerate(questions, start=1):\n",
        "    print(f\"Q{i}: {q['question']}\")\n",
        "    print(f\"Options: {q['options']}\")\n",
        "    print(f\"Answer: {q['answer']}\\n\")\n"
      ]
    },
    {
      "cell_type": "code",
      "source": [
        "# Welcome message\n",
        "print(\"Welcome to the Quiz Game!\")\n",
        "print(\"Answer the following questions by typing the letter of the correct option (A, B, C, or D).\")\n",
        "print(\"Let's begin!\\n\")\n",
        "\n",
        "# Initialize score\n",
        "score = 0\n"
      ],
      "metadata": {
        "colab": {
          "base_uri": "https://localhost:8080/"
        },
        "id": "jGaeqJoU3Hjj",
        "outputId": "1a655d91-c8a7-4dfe-e39d-6237d0b04fc4"
      },
      "execution_count": null,
      "outputs": [
        {
          "output_type": "stream",
          "name": "stdout",
          "text": [
            "Welcome to the Quiz Game!\n",
            "Answer the following questions by typing the letter of the correct option (A, B, C, or D).\n",
            "Let's begin!\n",
            "\n"
          ]
        }
      ]
    },
    {
      "cell_type": "code",
      "source": [
        "# List of questions\n",
        "questions = [\n",
        "    {\n",
        "        \"question\": \"What is the capital of France?\",\n",
        "        \"options\": \"A. Berlin B. Madrid C. Paris D. Rome\",\n",
        "        \"answer\": \"C\"\n",
        "    },\n",
        "    {\n",
        "        \"question\": \"Which planet is known as the Red Planet?\",\n",
        "        \"options\": \"A. Earth B. Mars C. Jupiter D. Venus\",\n",
        "        \"answer\": \"B\"\n",
        "    },\n",
        "    {\n",
        "        \"question\": \"What is the largest ocean on Earth?\",\n",
        "        \"options\": \"A. Atlantic Ocean B. Indian Ocean C. Arctic Ocean D. Pacific Ocean\",\n",
        "        \"answer\": \"D\"\n",
        "    }\n",
        "]\n",
        "\n",
        "# Welcome message and score initialization\n",
        "print(\"Welcome to the Quiz Game!\")\n",
        "print(\"Answer the following questions by typing the letter of the correct option (A, B, C, or D).\")\n",
        "print(\"Let's begin!\\n\")\n",
        "\n",
        "score = 0\n",
        "\n",
        "# Loop through each question\n",
        "for i, q in enumerate(questions, start=1):\n",
        "    print(f\"Q{i}: {q['question']}\")\n",
        "    print(q['options'])\n",
        "\n",
        "    user_answer = input(\"Your answer: \").strip().upper()\n",
        "\n",
        "    if user_answer == q['answer']:\n",
        "        print(\"Correct!\\n\")\n",
        "        score += 1\n",
        "    else:\n",
        "        print(f\"Wrong! The correct answer was {q['answer']}.\\n\")\n",
        "\n",
        "# Final score\n",
        "print(f\"Quiz complete! Your final score is {score}/{len(questions)}.\")\n"
      ],
      "metadata": {
        "colab": {
          "base_uri": "https://localhost:8080/"
        },
        "id": "01znsN3y5Xlw",
        "outputId": "35055d54-2211-4bf1-bac2-baa0aa57c0d9"
      },
      "execution_count": null,
      "outputs": [
        {
          "output_type": "stream",
          "name": "stdout",
          "text": [
            "Welcome to the Quiz Game!\n",
            "Answer the following questions by typing the letter of the correct option (A, B, C, or D).\n",
            "Let's begin!\n",
            "\n",
            "Q1: What is the capital of France?\n",
            "A. Berlin B. Madrid C. Paris D. Rome\n",
            "Your answer: C\n",
            "Correct!\n",
            "\n",
            "Q2: Which planet is known as the Red Planet?\n",
            "A. Earth B. Mars C. Jupiter D. Venus\n",
            "Your answer: B\n",
            "Correct!\n",
            "\n",
            "Q3: What is the largest ocean on Earth?\n",
            "A. Atlantic Ocean B. Indian Ocean C. Arctic Ocean D. Pacific Ocean\n",
            "Your answer: D\n",
            "Correct!\n",
            "\n",
            "Quiz complete! Your final score is 3/3.\n"
          ]
        }
      ]
    },
    {
      "cell_type": "code",
      "source": [
        "#HANDLE USER ANSWERS"
      ],
      "metadata": {
        "id": "C9aY20HI8jvf"
      },
      "execution_count": null,
      "outputs": []
    },
    {
      "cell_type": "code",
      "source": [
        "# Welcome message\n",
        "print(\"Welcome to the Interactive Quiz Game!\")\n",
        "print(\"Answer the questions below. You can retry, skip, or quit if you get an answer wrong.\\n\")\n",
        "\n",
        "# Initialize score\n",
        "score = 0\n",
        "\n",
        "# Quiz questions\n",
        "quiz_questions = [\n",
        "    {\n",
        "        \"question\": \"What is the largest ocean on Earth?\",\n",
        "        \"options\": \"A. Atlantic Ocean B. Indian Ocean C. Arctic Ocean D. Pacific Ocean\",\n",
        "        \"answer\": \"D\"\n",
        "    },\n",
        "    {\n",
        "        \"question\": \"Who invented the light bulb?\",\n",
        "        \"options\": \"A. Nikola Tesla B. Thomas Edison C. Alexander Graham Bell D. Albert Einstein\",\n",
        "        \"answer\": \"B\"\n",
        "    },\n",
        "    {\n",
        "        \"question\": \"Which language is primarily spoken in Brazil?\",\n",
        "        \"options\": \"A. Spanish B. Portuguese C. French D. English\",\n",
        "        \"answer\": \"B\"\n",
        "    },\n",
        "    {\n",
        "        \"question\": \"How many continents are there on Earth?\",\n",
        "        \"options\": \"A. 5 B. 6 C. 7 D. 8\",\n",
        "        \"answer\": \"C\"\n",
        "    },\n",
        "    {\n",
        "        \"question\": \"What is the chemical symbol for gold?\",\n",
        "        \"options\": \"A. Ag B. Au C. Gd D. Go\",\n",
        "        \"answer\": \"B\"\n",
        "    }\n",
        "]\n",
        "\n",
        "# Start the quiz\n",
        "i = 0\n",
        "while i < len(quiz_questions):\n",
        "    q = quiz_questions[i]\n",
        "    print(f\"\\nQuestion {i + 1}: {q['question']}\")\n",
        "    print(q[\"options\"])\n",
        "\n",
        "    user_answer = input(\"Your answer (A/B/C/D): \").strip().upper()\n",
        "\n",
        "    if user_answer == q[\"answer\"]:\n",
        "        print(\"Correct!\\n\")\n",
        "        score += 1\n",
        "        i += 1  # Move to the next question\n",
        "    else:\n",
        "        print(\"Wrong!\")\n",
        "        next_action = input(\"Enter R to Retry, S to Skip, or Q to Quit: \").strip().upper()\n",
        "\n",
        "        if next_action == \"R\":\n",
        "            continue  # Repeat the same question\n",
        "        elif next_action == \"S\":\n",
        "            i += 1  # Move to next question\n",
        "        elif next_action == \"Q\":\n",
        "            print(\"\\nQuiz ended by user.\")\n",
        "            break\n",
        "        else:\n",
        "            print(\"Invalid choice. Skipping the question.\")\n",
        "            i += 1\n",
        "\n",
        "# Final score\n",
        "print(f\"\\nFinal Score: {score} out of {len(quiz_questions)}\")\n"
      ],
      "metadata": {
        "colab": {
          "base_uri": "https://localhost:8080/"
        },
        "id": "S5F2FdMX_F_B",
        "outputId": "474a9a74-83b5-4666-fd58-2ded9b8ee98f"
      },
      "execution_count": null,
      "outputs": [
        {
          "output_type": "stream",
          "name": "stdout",
          "text": [
            "Welcome to the Interactive Quiz Game!\n",
            "Answer the questions below. You can retry, skip, or quit if you get an answer wrong.\n",
            "\n",
            "\n",
            "Question 1: What is the largest ocean on Earth?\n",
            "A. Atlantic Ocean B. Indian Ocean C. Arctic Ocean D. Pacific Ocean\n",
            "Your answer (A/B/C/D): D\n",
            "Correct!\n",
            "\n",
            "\n",
            "Question 2: Who invented the light bulb?\n",
            "A. Nikola Tesla B. Thomas Edison C. Alexander Graham Bell D. Albert Einstein\n",
            "Your answer (A/B/C/D): B\n",
            "Correct!\n",
            "\n",
            "\n",
            "Question 3: Which language is primarily spoken in Brazil?\n",
            "A. Spanish B. Portuguese C. French D. English\n",
            "Your answer (A/B/C/D): B\n",
            "Correct!\n",
            "\n",
            "\n",
            "Question 4: How many continents are there on Earth?\n",
            "A. 5 B. 6 C. 7 D. 8\n",
            "Your answer (A/B/C/D): C\n",
            "Correct!\n",
            "\n",
            "\n",
            "Question 5: What is the chemical symbol for gold?\n",
            "A. Ag B. Au C. Gd D. Go\n",
            "Your answer (A/B/C/D): B\n",
            "Correct!\n",
            "\n",
            "\n",
            "Final Score: 5 out of 5\n"
          ]
        }
      ]
    },
    {
      "cell_type": "code",
      "source": [],
      "metadata": {
        "id": "Z3CBBiUs_O55"
      },
      "execution_count": null,
      "outputs": []
    },
    {
      "cell_type": "code",
      "source": [
        "# Welcome message\n",
        "print(\"Welcome to the Interactive Quiz Game!\")\n",
        "print(\"Answer the questions below. You can retry, skip, or quit if you get an answer wrong.\\n\")\n",
        "\n",
        "# Initialize score\n",
        "score = 0\n",
        "\n",
        "# Quiz questions\n",
        "quiz_questions = [\n",
        "    {\n",
        "        \"question\": \"What is the largest ocean on Earth?\",\n",
        "        \"options\": \"A. Atlantic Ocean B. Indian Ocean C. Arctic Ocean D. Pacific Ocean\",\n",
        "        \"answer\": \"D\"\n",
        "    },\n",
        "    {\n",
        "        \"question\": \"Who invented the light bulb?\",\n",
        "        \"options\": \"A. Nikola Tesla B. Thomas Edison C. Alexander Graham Bell D. Albert Einstein\",\n",
        "        \"answer\": \"B\"\n",
        "    },\n",
        "    {\n",
        "        \"question\": \"Which language is primarily spoken in Brazil?\",\n",
        "        \"options\": \"A. Spanish B. Portuguese C. French D. English\",\n",
        "        \"answer\": \"B\"\n",
        "    },\n",
        "    {\n",
        "        \"question\": \"How many continents are there on Earth?\",\n",
        "        \"options\": \"A. 5 B. 6 C. 7 D. 8\",\n",
        "        \"answer\": \"C\"\n",
        "    },\n",
        "    {\n",
        "        \"question\": \"What is the chemical symbol for gold?\",\n",
        "        \"options\": \"A. Ag B. Au C. Gd D. Go\",\n",
        "        \"answer\": \"B\"\n",
        "    }\n",
        "]\n",
        "\n",
        "# Start the quiz\n",
        "i = 0\n",
        "while i < len(quiz_questions):\n",
        "    q = quiz_questions[i]\n",
        "    print(f\"\\nQuestion {i + 1}: {q['question']}\")\n",
        "    print(q[\"options\"])\n",
        "\n",
        "    user_answer = input(\"Your answer (A/B/C/D): \").strip().upper()\n",
        "\n",
        "    if user_answer == q[\"answer\"]:\n",
        "        print(\"Correct!\\n\")\n",
        "        score += 1\n",
        "        i += 1  # Move to the next question\n",
        "    else:\n",
        "        print(\"Wrong!\")\n",
        "        next_action = input(\"Enter R to Retry, S to Skip, or Q to Quit: \").strip().upper()\n",
        "\n",
        "        if next_action == \"R\":\n",
        "            continue  # Repeat the same question\n",
        "        elif next_action == \"S\":\n",
        "            i += 1  # Move to next question\n",
        "        elif next_action == \"Q\":\n",
        "            print(\"\\nQuiz ended by user.\")\n",
        "            break\n",
        "        else:\n",
        "            print(\"Invalid choice. Skipping the question.\")\n",
        "            i += 1\n",
        "\n",
        "# Completion message\n",
        "print(\"\\nQuiz Completed!\")\n",
        "print(f\"Your final score is {score} out of {len(quiz_questions)}\")\n"
      ],
      "metadata": {
        "id": "N-WyQCYy_HXx",
        "colab": {
          "base_uri": "https://localhost:8080/"
        },
        "outputId": "2efb57ea-3424-4012-f0d6-2cc9c72a2c08"
      },
      "execution_count": null,
      "outputs": [
        {
          "output_type": "stream",
          "name": "stdout",
          "text": [
            "Welcome to the Interactive Quiz Game!\n",
            "Answer the questions below. You can retry, skip, or quit if you get an answer wrong.\n",
            "\n",
            "\n",
            "Question 1: What is the largest ocean on Earth?\n",
            "A. Atlantic Ocean B. Indian Ocean C. Arctic Ocean D. Pacific Ocean\n",
            "Your answer (A/B/C/D): D\n",
            "Correct!\n",
            "\n",
            "\n",
            "Question 2: Who invented the light bulb?\n",
            "A. Nikola Tesla B. Thomas Edison C. Alexander Graham Bell D. Albert Einstein\n",
            "Your answer (A/B/C/D): B\n",
            "Correct!\n",
            "\n",
            "\n",
            "Question 3: Which language is primarily spoken in Brazil?\n",
            "A. Spanish B. Portuguese C. French D. English\n",
            "Your answer (A/B/C/D): B\n",
            "Correct!\n",
            "\n",
            "\n",
            "Question 4: How many continents are there on Earth?\n",
            "A. 5 B. 6 C. 7 D. 8\n",
            "Your answer (A/B/C/D): C\n",
            "Correct!\n",
            "\n",
            "\n",
            "Question 5: What is the chemical symbol for gold?\n",
            "A. Ag B. Au C. Gd D. Go\n",
            "Your answer (A/B/C/D): B\n",
            "Correct!\n",
            "\n",
            "\n",
            "Quiz Completed!\n",
            "Your final score is 5 out of 5\n"
          ]
        }
      ]
    },
    {
      "cell_type": "code",
      "source": [
        "#END THE QUIZ\n",
        "print(\"\\nQuiz Completed!\")\n",
        "print(f\"Your final score is {score} out of {len(quiz_questions)}\")"
      ],
      "metadata": {
        "colab": {
          "base_uri": "https://localhost:8080/"
        },
        "id": "wJfGVHu6EoxE",
        "outputId": "c428923f-a9bd-46fc-b386-6be453e98e16"
      },
      "execution_count": null,
      "outputs": [
        {
          "output_type": "stream",
          "name": "stdout",
          "text": [
            "\n",
            "Quiz Completed!\n",
            "Your final score is 5 out of 5\n"
          ]
        }
      ]
    },
    {
      "cell_type": "code",
      "source": [
        "#CREATE A LIST OF MULTIPLE CHOICE QUESTION AS DICTIONARIES\n",
        "quiz_questions = [\n",
        "    {\n",
        "        \"question\": \"What is the capital of France?\",\n",
        "        \"options\": \"A. Berlin B. Madrid C. Paris D. Rome\",\n",
        "        \"answer\": \"C\"\n",
        "    },\n",
        "\n",
        "    {\n",
        "        \"question\": \"Which planet is known as the Red Planet?\",\n",
        "        \"options\": \"A. Earth B. Mars C. Jupiter D. Venus\",\n",
        "        \"answer\": \"B\"\n",
        "    },\n",
        "\n",
        "    {\n",
        "        \"question\": \"What is the largest ocean on Earth?\",\n",
        "        \"options\": \"A. Atlantic Ocean B. Indian Ocean C. Arctic Ocean D. Pacific Ocean\",\n",
        "        \"answer\": \"D\"\n",
        "    },\n",
        "    {\n",
        "        \"question\": \"Which element has the chemical symbol 'O'?\",\n",
        "        \"options\": \"A. Gold B. Oxygen C. Osmium D. Ozone\",\n",
        "        \"answer\": \"B\"\n",
        "    },"
      ],
      "metadata": {
        "id": "p3OtCFzvFU57"
      },
      "execution_count": null,
      "outputs": []
    }
  ]
}